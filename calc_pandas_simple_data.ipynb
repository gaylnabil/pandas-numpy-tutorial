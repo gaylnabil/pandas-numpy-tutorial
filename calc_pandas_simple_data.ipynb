{
 "cells": [
  {
   "attachments": {},
   "cell_type": "markdown",
   "id": "dc78c342",
   "metadata": {},
   "source": [
    "### 1- Load Data with Pandas Package"
   ]
  },
  {
   "cell_type": "code",
   "execution_count": 101,
   "id": "11bfeb7d",
   "metadata": {},
   "outputs": [],
   "source": [
    "import pandas as pd"
   ]
  },
  {
   "cell_type": "code",
   "execution_count": 102,
   "id": "400b0e8c-ed6b-4edb-9e08-356405003842",
   "metadata": {},
   "outputs": [
    {
     "data": {
      "text/html": [
       "<div>\n",
       "<style scoped>\n",
       "    .dataframe tbody tr th:only-of-type {\n",
       "        vertical-align: middle;\n",
       "    }\n",
       "\n",
       "    .dataframe tbody tr th {\n",
       "        vertical-align: top;\n",
       "    }\n",
       "\n",
       "    .dataframe thead th {\n",
       "        text-align: right;\n",
       "    }\n",
       "</style>\n",
       "<table border=\"1\" class=\"dataframe\">\n",
       "  <thead>\n",
       "    <tr style=\"text-align: right;\">\n",
       "      <th></th>\n",
       "      <th>Reference</th>\n",
       "      <th>LatD</th>\n",
       "      <th>LatM</th>\n",
       "      <th>LatS</th>\n",
       "      <th>NS</th>\n",
       "      <th>LonD</th>\n",
       "      <th>LonM</th>\n",
       "      <th>LonS</th>\n",
       "      <th>EW</th>\n",
       "      <th>City</th>\n",
       "      <th>State</th>\n",
       "    </tr>\n",
       "  </thead>\n",
       "  <tbody>\n",
       "    <tr>\n",
       "      <th>0</th>\n",
       "      <td>320</td>\n",
       "      <td>41</td>\n",
       "      <td>5</td>\n",
       "      <td>59</td>\n",
       "      <td>N</td>\n",
       "      <td>80</td>\n",
       "      <td>39</td>\n",
       "      <td>0</td>\n",
       "      <td>W</td>\n",
       "      <td>Youngstown</td>\n",
       "      <td>OH</td>\n",
       "    </tr>\n",
       "    <tr>\n",
       "      <th>1</th>\n",
       "      <td>321</td>\n",
       "      <td>42</td>\n",
       "      <td>52</td>\n",
       "      <td>48</td>\n",
       "      <td>N</td>\n",
       "      <td>97</td>\n",
       "      <td>23</td>\n",
       "      <td>23</td>\n",
       "      <td>W</td>\n",
       "      <td>Yankton</td>\n",
       "      <td>SD</td>\n",
       "    </tr>\n",
       "    <tr>\n",
       "      <th>2</th>\n",
       "      <td>322</td>\n",
       "      <td>46</td>\n",
       "      <td>35</td>\n",
       "      <td>59</td>\n",
       "      <td>N</td>\n",
       "      <td>120</td>\n",
       "      <td>30</td>\n",
       "      <td>36</td>\n",
       "      <td>W</td>\n",
       "      <td>Yakima</td>\n",
       "      <td>WA</td>\n",
       "    </tr>\n",
       "    <tr>\n",
       "      <th>3</th>\n",
       "      <td>323</td>\n",
       "      <td>42</td>\n",
       "      <td>16</td>\n",
       "      <td>12</td>\n",
       "      <td>N</td>\n",
       "      <td>71</td>\n",
       "      <td>48</td>\n",
       "      <td>0</td>\n",
       "      <td>W</td>\n",
       "      <td>Worcester</td>\n",
       "      <td>MA</td>\n",
       "    </tr>\n",
       "    <tr>\n",
       "      <th>4</th>\n",
       "      <td>324</td>\n",
       "      <td>43</td>\n",
       "      <td>37</td>\n",
       "      <td>48</td>\n",
       "      <td>N</td>\n",
       "      <td>89</td>\n",
       "      <td>46</td>\n",
       "      <td>11</td>\n",
       "      <td>W</td>\n",
       "      <td>Wisconsin Dells</td>\n",
       "      <td>WI</td>\n",
       "    </tr>\n",
       "  </tbody>\n",
       "</table>\n",
       "</div>"
      ],
      "text/plain": [
       "   Reference  LatD   LatM   LatS NS  LonD  LonM  LonS EW             City  \\\n",
       "0        320    41      5     59  N    80    39     0  W       Youngstown   \n",
       "1        321    42     52     48  N    97    23    23  W          Yankton   \n",
       "2        322    46     35     59  N   120    30    36  W           Yakima   \n",
       "3        323    42     16     12  N    71    48     0  W        Worcester   \n",
       "4        324    43     37     48  N    89    46    11  W  Wisconsin Dells   \n",
       "\n",
       "  State  \n",
       "0    OH  \n",
       "1    SD  \n",
       "2    WA  \n",
       "3    MA  \n",
       "4    WI  "
      ]
     },
     "execution_count": 102,
     "metadata": {},
     "output_type": "execute_result"
    }
   ],
   "source": [
    "data_frames = pd.read_csv('data/cities.csv')\n",
    "data_frames.head()"
   ]
  },
  {
   "attachments": {},
   "cell_type": "markdown",
   "id": "a7e8911e",
   "metadata": {},
   "source": [
    "### 2- Using DataFrame and Series Basics"
   ]
  },
  {
   "cell_type": "code",
   "execution_count": 103,
   "id": "96c82700",
   "metadata": {},
   "outputs": [
    {
     "data": {
      "text/plain": [
       "{'first_name': ['Nabil',\n",
       "  'Imane',\n",
       "  'Yousra',\n",
       "  'Samir',\n",
       "  'Hamid',\n",
       "  'Fatima Zahra',\n",
       "  'Nabil'],\n",
       " 'last_name': ['GAYL',\n",
       "  'SALHI',\n",
       "  'GAYL',\n",
       "  'FADI',\n",
       "  'MANSOURI',\n",
       "  'OUAFIK',\n",
       "  'MOURABITI'],\n",
       " 'email': ['gaylnabil@gmail.com',\n",
       "  'imanesalhi@gmail.com',\n",
       "  'yousragaylsalhi@gmail.com',\n",
       "  'samir@outlook.com',\n",
       "  'hamid@gmail.com',\n",
       "  'ouafik@gmail.com',\n",
       "  'mourabiti.nabil@outlook.com']}"
      ]
     },
     "execution_count": 103,
     "metadata": {},
     "output_type": "execute_result"
    }
   ],
   "source": [
    "people = {\n",
    "    'first_name': [\"Nabil\", \"Imane\", \"Yousra\", \"Samir\", \"Hamid\", \"Fatima Zahra\", \"Nabil\"],\n",
    "    'last_name': [\"GAYL\", \"SALHI\", \"GAYL\", \"FADI\", \"MANSOURI\", \"OUAFIK\", \"MOURABITI\"],\n",
    "    'email': ['gaylnabil@gmail.com', 'imanesalhi@gmail.com', 'yousragaylsalhi@gmail.com', 'samir@outlook.com', 'hamid@gmail.com', 'ouafik@gmail.com', 'mourabiti.nabil@outlook.com']\n",
    "}\n",
    "people"
   ]
  },
  {
   "cell_type": "code",
   "execution_count": 104,
   "id": "b0edb0d2",
   "metadata": {},
   "outputs": [
    {
     "data": {
      "text/html": [
       "<div>\n",
       "<style scoped>\n",
       "    .dataframe tbody tr th:only-of-type {\n",
       "        vertical-align: middle;\n",
       "    }\n",
       "\n",
       "    .dataframe tbody tr th {\n",
       "        vertical-align: top;\n",
       "    }\n",
       "\n",
       "    .dataframe thead th {\n",
       "        text-align: right;\n",
       "    }\n",
       "</style>\n",
       "<table border=\"1\" class=\"dataframe\">\n",
       "  <thead>\n",
       "    <tr style=\"text-align: right;\">\n",
       "      <th></th>\n",
       "      <th>first_name</th>\n",
       "      <th>last_name</th>\n",
       "      <th>email</th>\n",
       "    </tr>\n",
       "  </thead>\n",
       "  <tbody>\n",
       "    <tr>\n",
       "      <th>0</th>\n",
       "      <td>Nabil</td>\n",
       "      <td>GAYL</td>\n",
       "      <td>gaylnabil@gmail.com</td>\n",
       "    </tr>\n",
       "    <tr>\n",
       "      <th>1</th>\n",
       "      <td>Imane</td>\n",
       "      <td>SALHI</td>\n",
       "      <td>imanesalhi@gmail.com</td>\n",
       "    </tr>\n",
       "    <tr>\n",
       "      <th>2</th>\n",
       "      <td>Yousra</td>\n",
       "      <td>GAYL</td>\n",
       "      <td>yousragaylsalhi@gmail.com</td>\n",
       "    </tr>\n",
       "    <tr>\n",
       "      <th>3</th>\n",
       "      <td>Samir</td>\n",
       "      <td>FADI</td>\n",
       "      <td>samir@outlook.com</td>\n",
       "    </tr>\n",
       "    <tr>\n",
       "      <th>4</th>\n",
       "      <td>Hamid</td>\n",
       "      <td>MANSOURI</td>\n",
       "      <td>hamid@gmail.com</td>\n",
       "    </tr>\n",
       "    <tr>\n",
       "      <th>5</th>\n",
       "      <td>Fatima Zahra</td>\n",
       "      <td>OUAFIK</td>\n",
       "      <td>ouafik@gmail.com</td>\n",
       "    </tr>\n",
       "    <tr>\n",
       "      <th>6</th>\n",
       "      <td>Nabil</td>\n",
       "      <td>MOURABITI</td>\n",
       "      <td>mourabiti.nabil@outlook.com</td>\n",
       "    </tr>\n",
       "  </tbody>\n",
       "</table>\n",
       "</div>"
      ],
      "text/plain": [
       "     first_name  last_name                        email\n",
       "0         Nabil       GAYL          gaylnabil@gmail.com\n",
       "1         Imane      SALHI         imanesalhi@gmail.com\n",
       "2        Yousra       GAYL    yousragaylsalhi@gmail.com\n",
       "3         Samir       FADI            samir@outlook.com\n",
       "4         Hamid   MANSOURI              hamid@gmail.com\n",
       "5  Fatima Zahra     OUAFIK             ouafik@gmail.com\n",
       "6         Nabil  MOURABITI  mourabiti.nabil@outlook.com"
      ]
     },
     "execution_count": 104,
     "metadata": {},
     "output_type": "execute_result"
    }
   ],
   "source": [
    "df = pd.DataFrame(people)\n",
    "df"
   ]
  },
  {
   "cell_type": "code",
   "execution_count": 105,
   "id": "6a526d9d",
   "metadata": {},
   "outputs": [
    {
     "data": {
      "text/plain": [
       "0           Nabil\n",
       "1           Imane\n",
       "2          Yousra\n",
       "3           Samir\n",
       "4           Hamid\n",
       "5    Fatima Zahra\n",
       "6           Nabil\n",
       "Name: first_name, dtype: object"
      ]
     },
     "execution_count": 105,
     "metadata": {},
     "output_type": "execute_result"
    }
   ],
   "source": [
    "df['first_name']"
   ]
  },
  {
   "cell_type": "code",
   "execution_count": 106,
   "id": "84caece9",
   "metadata": {},
   "outputs": [
    {
     "data": {
      "text/html": [
       "<div>\n",
       "<style scoped>\n",
       "    .dataframe tbody tr th:only-of-type {\n",
       "        vertical-align: middle;\n",
       "    }\n",
       "\n",
       "    .dataframe tbody tr th {\n",
       "        vertical-align: top;\n",
       "    }\n",
       "\n",
       "    .dataframe thead th {\n",
       "        text-align: right;\n",
       "    }\n",
       "</style>\n",
       "<table border=\"1\" class=\"dataframe\">\n",
       "  <thead>\n",
       "    <tr style=\"text-align: right;\">\n",
       "      <th></th>\n",
       "      <th>first_name</th>\n",
       "      <th>email</th>\n",
       "    </tr>\n",
       "  </thead>\n",
       "  <tbody>\n",
       "    <tr>\n",
       "      <th>0</th>\n",
       "      <td>Nabil</td>\n",
       "      <td>gaylnabil@gmail.com</td>\n",
       "    </tr>\n",
       "    <tr>\n",
       "      <th>1</th>\n",
       "      <td>Imane</td>\n",
       "      <td>imanesalhi@gmail.com</td>\n",
       "    </tr>\n",
       "    <tr>\n",
       "      <th>2</th>\n",
       "      <td>Yousra</td>\n",
       "      <td>yousragaylsalhi@gmail.com</td>\n",
       "    </tr>\n",
       "    <tr>\n",
       "      <th>3</th>\n",
       "      <td>Samir</td>\n",
       "      <td>samir@outlook.com</td>\n",
       "    </tr>\n",
       "    <tr>\n",
       "      <th>4</th>\n",
       "      <td>Hamid</td>\n",
       "      <td>hamid@gmail.com</td>\n",
       "    </tr>\n",
       "    <tr>\n",
       "      <th>5</th>\n",
       "      <td>Fatima Zahra</td>\n",
       "      <td>ouafik@gmail.com</td>\n",
       "    </tr>\n",
       "    <tr>\n",
       "      <th>6</th>\n",
       "      <td>Nabil</td>\n",
       "      <td>mourabiti.nabil@outlook.com</td>\n",
       "    </tr>\n",
       "  </tbody>\n",
       "</table>\n",
       "</div>"
      ],
      "text/plain": [
       "     first_name                        email\n",
       "0         Nabil          gaylnabil@gmail.com\n",
       "1         Imane         imanesalhi@gmail.com\n",
       "2        Yousra    yousragaylsalhi@gmail.com\n",
       "3         Samir            samir@outlook.com\n",
       "4         Hamid              hamid@gmail.com\n",
       "5  Fatima Zahra             ouafik@gmail.com\n",
       "6         Nabil  mourabiti.nabil@outlook.com"
      ]
     },
     "execution_count": 106,
     "metadata": {},
     "output_type": "execute_result"
    }
   ],
   "source": [
    "# Show table of results first_name and email\n",
    "df[['first_name', 'email']]"
   ]
  },
  {
   "cell_type": "code",
   "execution_count": 107,
   "id": "f97a60b6",
   "metadata": {},
   "outputs": [
    {
     "data": {
      "text/plain": [
       "Index(['first_name', 'last_name', 'email'], dtype='object')"
      ]
     },
     "execution_count": 107,
     "metadata": {},
     "output_type": "execute_result"
    }
   ],
   "source": [
    "# Return all columns names\n",
    "df.columns"
   ]
  },
  {
   "cell_type": "code",
   "execution_count": 108,
   "id": "39af707d",
   "metadata": {},
   "outputs": [
    {
     "data": {
      "text/html": [
       "<div>\n",
       "<style scoped>\n",
       "    .dataframe tbody tr th:only-of-type {\n",
       "        vertical-align: middle;\n",
       "    }\n",
       "\n",
       "    .dataframe tbody tr th {\n",
       "        vertical-align: top;\n",
       "    }\n",
       "\n",
       "    .dataframe thead th {\n",
       "        text-align: right;\n",
       "    }\n",
       "</style>\n",
       "<table border=\"1\" class=\"dataframe\">\n",
       "  <thead>\n",
       "    <tr style=\"text-align: right;\">\n",
       "      <th></th>\n",
       "      <th>last_name</th>\n",
       "      <th>email</th>\n",
       "    </tr>\n",
       "  </thead>\n",
       "  <tbody>\n",
       "    <tr>\n",
       "      <th>0</th>\n",
       "      <td>GAYL</td>\n",
       "      <td>gaylnabil@gmail.com</td>\n",
       "    </tr>\n",
       "    <tr>\n",
       "      <th>1</th>\n",
       "      <td>SALHI</td>\n",
       "      <td>imanesalhi@gmail.com</td>\n",
       "    </tr>\n",
       "    <tr>\n",
       "      <th>2</th>\n",
       "      <td>GAYL</td>\n",
       "      <td>yousragaylsalhi@gmail.com</td>\n",
       "    </tr>\n",
       "  </tbody>\n",
       "</table>\n",
       "</div>"
      ],
      "text/plain": [
       "  last_name                      email\n",
       "0      GAYL        gaylnabil@gmail.com\n",
       "1     SALHI       imanesalhi@gmail.com\n",
       "2      GAYL  yousragaylsalhi@gmail.com"
      ]
     },
     "execution_count": 108,
     "metadata": {},
     "output_type": "execute_result"
    }
   ],
   "source": [
    "# iloc: Integer Location\n",
    "# iloc[rows_indexes, cols_indexes]\n",
    "df.iloc[[0, 1, 2], [1, -1]]\n",
    "# df.iloc[0]['first_name']\n"
   ]
  },
  {
   "cell_type": "code",
   "execution_count": 109,
   "id": "3dd1fe27",
   "metadata": {},
   "outputs": [
    {
     "data": {
      "text/html": [
       "<div>\n",
       "<style scoped>\n",
       "    .dataframe tbody tr th:only-of-type {\n",
       "        vertical-align: middle;\n",
       "    }\n",
       "\n",
       "    .dataframe tbody tr th {\n",
       "        vertical-align: top;\n",
       "    }\n",
       "\n",
       "    .dataframe thead th {\n",
       "        text-align: right;\n",
       "    }\n",
       "</style>\n",
       "<table border=\"1\" class=\"dataframe\">\n",
       "  <thead>\n",
       "    <tr style=\"text-align: right;\">\n",
       "      <th></th>\n",
       "      <th>last_name</th>\n",
       "      <th>email</th>\n",
       "    </tr>\n",
       "  </thead>\n",
       "  <tbody>\n",
       "    <tr>\n",
       "      <th>0</th>\n",
       "      <td>GAYL</td>\n",
       "      <td>gaylnabil@gmail.com</td>\n",
       "    </tr>\n",
       "    <tr>\n",
       "      <th>1</th>\n",
       "      <td>SALHI</td>\n",
       "      <td>imanesalhi@gmail.com</td>\n",
       "    </tr>\n",
       "    <tr>\n",
       "      <th>2</th>\n",
       "      <td>GAYL</td>\n",
       "      <td>yousragaylsalhi@gmail.com</td>\n",
       "    </tr>\n",
       "    <tr>\n",
       "      <th>3</th>\n",
       "      <td>FADI</td>\n",
       "      <td>samir@outlook.com</td>\n",
       "    </tr>\n",
       "  </tbody>\n",
       "</table>\n",
       "</div>"
      ],
      "text/plain": [
       "  last_name                      email\n",
       "0      GAYL        gaylnabil@gmail.com\n",
       "1     SALHI       imanesalhi@gmail.com\n",
       "2      GAYL  yousragaylsalhi@gmail.com\n",
       "3      FADI          samir@outlook.com"
      ]
     },
     "execution_count": 109,
     "metadata": {},
     "output_type": "execute_result"
    }
   ],
   "source": [
    "# Show table with max rows of 4 and 2 last columns\n",
    "df.iloc[:4, -2:]"
   ]
  },
  {
   "cell_type": "code",
   "execution_count": 110,
   "id": "7b7bdd9d",
   "metadata": {},
   "outputs": [
    {
     "data": {
      "text/html": [
       "<div>\n",
       "<style scoped>\n",
       "    .dataframe tbody tr th:only-of-type {\n",
       "        vertical-align: middle;\n",
       "    }\n",
       "\n",
       "    .dataframe tbody tr th {\n",
       "        vertical-align: top;\n",
       "    }\n",
       "\n",
       "    .dataframe thead th {\n",
       "        text-align: right;\n",
       "    }\n",
       "</style>\n",
       "<table border=\"1\" class=\"dataframe\">\n",
       "  <thead>\n",
       "    <tr style=\"text-align: right;\">\n",
       "      <th></th>\n",
       "      <th>first_name</th>\n",
       "      <th>last_name</th>\n",
       "    </tr>\n",
       "  </thead>\n",
       "  <tbody>\n",
       "    <tr>\n",
       "      <th>0</th>\n",
       "      <td>Nabil</td>\n",
       "      <td>GAYL</td>\n",
       "    </tr>\n",
       "    <tr>\n",
       "      <th>1</th>\n",
       "      <td>Imane</td>\n",
       "      <td>SALHI</td>\n",
       "    </tr>\n",
       "  </tbody>\n",
       "</table>\n",
       "</div>"
      ],
      "text/plain": [
       "  first_name last_name\n",
       "0      Nabil      GAYL\n",
       "1      Imane     SALHI"
      ]
     },
     "execution_count": 110,
     "metadata": {},
     "output_type": "execute_result"
    }
   ],
   "source": [
    "# loc: Location\n",
    "# loc[rows_indexes, cols_names]\n",
    "df.loc[[0, 1], ['first_name', 'last_name']]\n"
   ]
  },
  {
   "cell_type": "code",
   "execution_count": 111,
   "id": "c5151552",
   "metadata": {},
   "outputs": [
    {
     "data": {
      "text/html": [
       "<div>\n",
       "<style scoped>\n",
       "    .dataframe tbody tr th:only-of-type {\n",
       "        vertical-align: middle;\n",
       "    }\n",
       "\n",
       "    .dataframe tbody tr th {\n",
       "        vertical-align: top;\n",
       "    }\n",
       "\n",
       "    .dataframe thead th {\n",
       "        text-align: right;\n",
       "    }\n",
       "</style>\n",
       "<table border=\"1\" class=\"dataframe\">\n",
       "  <thead>\n",
       "    <tr style=\"text-align: right;\">\n",
       "      <th></th>\n",
       "      <th>first_name</th>\n",
       "      <th>email</th>\n",
       "    </tr>\n",
       "  </thead>\n",
       "  <tbody>\n",
       "    <tr>\n",
       "      <th>0</th>\n",
       "      <td>Nabil</td>\n",
       "      <td>gaylnabil@gmail.com</td>\n",
       "    </tr>\n",
       "    <tr>\n",
       "      <th>1</th>\n",
       "      <td>Imane</td>\n",
       "      <td>imanesalhi@gmail.com</td>\n",
       "    </tr>\n",
       "    <tr>\n",
       "      <th>2</th>\n",
       "      <td>Yousra</td>\n",
       "      <td>yousragaylsalhi@gmail.com</td>\n",
       "    </tr>\n",
       "    <tr>\n",
       "      <th>3</th>\n",
       "      <td>Samir</td>\n",
       "      <td>samir@outlook.com</td>\n",
       "    </tr>\n",
       "    <tr>\n",
       "      <th>4</th>\n",
       "      <td>Hamid</td>\n",
       "      <td>hamid@gmail.com</td>\n",
       "    </tr>\n",
       "  </tbody>\n",
       "</table>\n",
       "</div>"
      ],
      "text/plain": [
       "  first_name                      email\n",
       "0      Nabil        gaylnabil@gmail.com\n",
       "1      Imane       imanesalhi@gmail.com\n",
       "2     Yousra  yousragaylsalhi@gmail.com\n",
       "3      Samir          samir@outlook.com\n",
       "4      Hamid            hamid@gmail.com"
      ]
     },
     "execution_count": 111,
     "metadata": {},
     "output_type": "execute_result"
    }
   ],
   "source": [
    "df.loc[:4, ['first_name', 'email']]"
   ]
  },
  {
   "cell_type": "code",
   "execution_count": 112,
   "id": "126c106f",
   "metadata": {},
   "outputs": [
    {
     "data": {
      "text/plain": [
       "gaylnabil@gmail.com            1\n",
       "imanesalhi@gmail.com           1\n",
       "yousragaylsalhi@gmail.com      1\n",
       "samir@outlook.com              1\n",
       "hamid@gmail.com                1\n",
       "ouafik@gmail.com               1\n",
       "mourabiti.nabil@outlook.com    1\n",
       "Name: email, dtype: int64"
      ]
     },
     "execution_count": 112,
     "metadata": {},
     "output_type": "execute_result"
    }
   ],
   "source": [
    "df['email'].value_counts()"
   ]
  },
  {
   "attachments": {},
   "cell_type": "markdown",
   "id": "40b73a02",
   "metadata": {},
   "source": [
    "### 3- Indexes - How to Set, Reset, and Use Indexes"
   ]
  },
  {
   "cell_type": "code",
   "execution_count": 113,
   "id": "5dd2b6ff",
   "metadata": {},
   "outputs": [
    {
     "data": {
      "text/plain": [
       "0            gaylnabil@gmail.com\n",
       "1           imanesalhi@gmail.com\n",
       "2      yousragaylsalhi@gmail.com\n",
       "3              samir@outlook.com\n",
       "4                hamid@gmail.com\n",
       "5               ouafik@gmail.com\n",
       "6    mourabiti.nabil@outlook.com\n",
       "Name: email, dtype: object"
      ]
     },
     "execution_count": 113,
     "metadata": {},
     "output_type": "execute_result"
    }
   ],
   "source": [
    "df['email']"
   ]
  },
  {
   "cell_type": "code",
   "execution_count": 114,
   "id": "d63ea5a6",
   "metadata": {},
   "outputs": [],
   "source": [
    "# Indexing the table with the specified column 'Email'\n",
    "df.set_index('email', inplace=True)"
   ]
  },
  {
   "cell_type": "code",
   "execution_count": 115,
   "id": "d5f7e92b",
   "metadata": {},
   "outputs": [
    {
     "data": {
      "text/plain": [
       "Index(['gaylnabil@gmail.com', 'imanesalhi@gmail.com',\n",
       "       'yousragaylsalhi@gmail.com', 'samir@outlook.com', 'hamid@gmail.com',\n",
       "       'ouafik@gmail.com', 'mourabiti.nabil@outlook.com'],\n",
       "      dtype='object', name='email')"
      ]
     },
     "execution_count": 115,
     "metadata": {},
     "output_type": "execute_result"
    }
   ],
   "source": [
    "df.index"
   ]
  },
  {
   "cell_type": "code",
   "execution_count": 116,
   "id": "1dc4a695",
   "metadata": {},
   "outputs": [
    {
     "data": {
      "text/plain": [
       "first_name    Nabil\n",
       "last_name      GAYL\n",
       "Name: gaylnabil@gmail.com, dtype: object"
      ]
     },
     "execution_count": 116,
     "metadata": {},
     "output_type": "execute_result"
    }
   ],
   "source": [
    "df.loc['gaylnabil@gmail.com']"
   ]
  },
  {
   "cell_type": "code",
   "execution_count": 117,
   "id": "da57451e",
   "metadata": {},
   "outputs": [
    {
     "data": {
      "text/html": [
       "<div>\n",
       "<style scoped>\n",
       "    .dataframe tbody tr th:only-of-type {\n",
       "        vertical-align: middle;\n",
       "    }\n",
       "\n",
       "    .dataframe tbody tr th {\n",
       "        vertical-align: top;\n",
       "    }\n",
       "\n",
       "    .dataframe thead th {\n",
       "        text-align: right;\n",
       "    }\n",
       "</style>\n",
       "<table border=\"1\" class=\"dataframe\">\n",
       "  <thead>\n",
       "    <tr style=\"text-align: right;\">\n",
       "      <th></th>\n",
       "      <th>email</th>\n",
       "      <th>first_name</th>\n",
       "      <th>last_name</th>\n",
       "    </tr>\n",
       "  </thead>\n",
       "  <tbody>\n",
       "    <tr>\n",
       "      <th>0</th>\n",
       "      <td>gaylnabil@gmail.com</td>\n",
       "      <td>Nabil</td>\n",
       "      <td>GAYL</td>\n",
       "    </tr>\n",
       "    <tr>\n",
       "      <th>1</th>\n",
       "      <td>imanesalhi@gmail.com</td>\n",
       "      <td>Imane</td>\n",
       "      <td>SALHI</td>\n",
       "    </tr>\n",
       "    <tr>\n",
       "      <th>2</th>\n",
       "      <td>yousragaylsalhi@gmail.com</td>\n",
       "      <td>Yousra</td>\n",
       "      <td>GAYL</td>\n",
       "    </tr>\n",
       "    <tr>\n",
       "      <th>3</th>\n",
       "      <td>samir@outlook.com</td>\n",
       "      <td>Samir</td>\n",
       "      <td>FADI</td>\n",
       "    </tr>\n",
       "    <tr>\n",
       "      <th>4</th>\n",
       "      <td>hamid@gmail.com</td>\n",
       "      <td>Hamid</td>\n",
       "      <td>MANSOURI</td>\n",
       "    </tr>\n",
       "    <tr>\n",
       "      <th>5</th>\n",
       "      <td>ouafik@gmail.com</td>\n",
       "      <td>Fatima Zahra</td>\n",
       "      <td>OUAFIK</td>\n",
       "    </tr>\n",
       "    <tr>\n",
       "      <th>6</th>\n",
       "      <td>mourabiti.nabil@outlook.com</td>\n",
       "      <td>Nabil</td>\n",
       "      <td>MOURABITI</td>\n",
       "    </tr>\n",
       "  </tbody>\n",
       "</table>\n",
       "</div>"
      ],
      "text/plain": [
       "                         email    first_name  last_name\n",
       "0          gaylnabil@gmail.com         Nabil       GAYL\n",
       "1         imanesalhi@gmail.com         Imane      SALHI\n",
       "2    yousragaylsalhi@gmail.com        Yousra       GAYL\n",
       "3            samir@outlook.com         Samir       FADI\n",
       "4              hamid@gmail.com         Hamid   MANSOURI\n",
       "5             ouafik@gmail.com  Fatima Zahra     OUAFIK\n",
       "6  mourabiti.nabil@outlook.com         Nabil  MOURABITI"
      ]
     },
     "execution_count": 117,
     "metadata": {},
     "output_type": "execute_result"
    }
   ],
   "source": [
    "# Return to normal table without indexes with specified column name\n",
    "df.reset_index(inplace=True)\n",
    "df.sort_index(ascending=True)"
   ]
  },
  {
   "attachments": {},
   "cell_type": "markdown",
   "id": "254b35ad",
   "metadata": {},
   "source": [
    "### 4- Filtering - Using Conditionals to Filter Rows and Columns"
   ]
  },
  {
   "cell_type": "code",
   "execution_count": 118,
   "id": "e680c88a",
   "metadata": {},
   "outputs": [],
   "source": [
    "fn_filter = ((df['first_name'] == \"Nabil\") | (df['last_name'] == \"GAYL\"))"
   ]
  },
  {
   "cell_type": "code",
   "execution_count": 119,
   "id": "a7119c22",
   "metadata": {},
   "outputs": [
    {
     "data": {
      "text/html": [
       "<div>\n",
       "<style scoped>\n",
       "    .dataframe tbody tr th:only-of-type {\n",
       "        vertical-align: middle;\n",
       "    }\n",
       "\n",
       "    .dataframe tbody tr th {\n",
       "        vertical-align: top;\n",
       "    }\n",
       "\n",
       "    .dataframe thead th {\n",
       "        text-align: right;\n",
       "    }\n",
       "</style>\n",
       "<table border=\"1\" class=\"dataframe\">\n",
       "  <thead>\n",
       "    <tr style=\"text-align: right;\">\n",
       "      <th></th>\n",
       "      <th>email</th>\n",
       "      <th>first_name</th>\n",
       "      <th>last_name</th>\n",
       "    </tr>\n",
       "  </thead>\n",
       "  <tbody>\n",
       "    <tr>\n",
       "      <th>0</th>\n",
       "      <td>gaylnabil@gmail.com</td>\n",
       "      <td>Nabil</td>\n",
       "      <td>GAYL</td>\n",
       "    </tr>\n",
       "    <tr>\n",
       "      <th>2</th>\n",
       "      <td>yousragaylsalhi@gmail.com</td>\n",
       "      <td>Yousra</td>\n",
       "      <td>GAYL</td>\n",
       "    </tr>\n",
       "    <tr>\n",
       "      <th>6</th>\n",
       "      <td>mourabiti.nabil@outlook.com</td>\n",
       "      <td>Nabil</td>\n",
       "      <td>MOURABITI</td>\n",
       "    </tr>\n",
       "  </tbody>\n",
       "</table>\n",
       "</div>"
      ],
      "text/plain": [
       "                         email first_name  last_name\n",
       "0          gaylnabil@gmail.com      Nabil       GAYL\n",
       "2    yousragaylsalhi@gmail.com     Yousra       GAYL\n",
       "6  mourabiti.nabil@outlook.com      Nabil  MOURABITI"
      ]
     },
     "execution_count": 119,
     "metadata": {},
     "output_type": "execute_result"
    }
   ],
   "source": [
    "df[fn_filter]"
   ]
  },
  {
   "cell_type": "code",
   "execution_count": 120,
   "id": "92eb62be",
   "metadata": {},
   "outputs": [
    {
     "data": {
      "text/html": [
       "<div>\n",
       "<style scoped>\n",
       "    .dataframe tbody tr th:only-of-type {\n",
       "        vertical-align: middle;\n",
       "    }\n",
       "\n",
       "    .dataframe tbody tr th {\n",
       "        vertical-align: top;\n",
       "    }\n",
       "\n",
       "    .dataframe thead th {\n",
       "        text-align: right;\n",
       "    }\n",
       "</style>\n",
       "<table border=\"1\" class=\"dataframe\">\n",
       "  <thead>\n",
       "    <tr style=\"text-align: right;\">\n",
       "      <th></th>\n",
       "      <th>email</th>\n",
       "      <th>first_name</th>\n",
       "      <th>last_name</th>\n",
       "    </tr>\n",
       "  </thead>\n",
       "  <tbody>\n",
       "    <tr>\n",
       "      <th>0</th>\n",
       "      <td>gaylnabil@gmail.com</td>\n",
       "      <td>Nabil</td>\n",
       "      <td>GAYL</td>\n",
       "    </tr>\n",
       "    <tr>\n",
       "      <th>2</th>\n",
       "      <td>yousragaylsalhi@gmail.com</td>\n",
       "      <td>Yousra</td>\n",
       "      <td>GAYL</td>\n",
       "    </tr>\n",
       "    <tr>\n",
       "      <th>6</th>\n",
       "      <td>mourabiti.nabil@outlook.com</td>\n",
       "      <td>Nabil</td>\n",
       "      <td>MOURABITI</td>\n",
       "    </tr>\n",
       "  </tbody>\n",
       "</table>\n",
       "</div>"
      ],
      "text/plain": [
       "                         email first_name  last_name\n",
       "0          gaylnabil@gmail.com      Nabil       GAYL\n",
       "2    yousragaylsalhi@gmail.com     Yousra       GAYL\n",
       "6  mourabiti.nabil@outlook.com      Nabil  MOURABITI"
      ]
     },
     "execution_count": 120,
     "metadata": {},
     "output_type": "execute_result"
    }
   ],
   "source": [
    "# The same filter results of 'df[fn_filter]'\n",
    "df.loc[fn_filter]"
   ]
  },
  {
   "cell_type": "code",
   "execution_count": 123,
   "id": "e49f1399",
   "metadata": {},
   "outputs": [
    {
     "data": {
      "text/html": [
       "<div>\n",
       "<style scoped>\n",
       "    .dataframe tbody tr th:only-of-type {\n",
       "        vertical-align: middle;\n",
       "    }\n",
       "\n",
       "    .dataframe tbody tr th {\n",
       "        vertical-align: top;\n",
       "    }\n",
       "\n",
       "    .dataframe thead th {\n",
       "        text-align: right;\n",
       "    }\n",
       "</style>\n",
       "<table border=\"1\" class=\"dataframe\">\n",
       "  <thead>\n",
       "    <tr style=\"text-align: right;\">\n",
       "      <th></th>\n",
       "      <th>first_name</th>\n",
       "      <th>email</th>\n",
       "    </tr>\n",
       "  </thead>\n",
       "  <tbody>\n",
       "    <tr>\n",
       "      <th>1</th>\n",
       "      <td>Imane</td>\n",
       "      <td>imanesalhi@gmail.com</td>\n",
       "    </tr>\n",
       "    <tr>\n",
       "      <th>3</th>\n",
       "      <td>Samir</td>\n",
       "      <td>samir@outlook.com</td>\n",
       "    </tr>\n",
       "    <tr>\n",
       "      <th>4</th>\n",
       "      <td>Hamid</td>\n",
       "      <td>hamid@gmail.com</td>\n",
       "    </tr>\n",
       "    <tr>\n",
       "      <th>5</th>\n",
       "      <td>Fatima Zahra</td>\n",
       "      <td>ouafik@gmail.com</td>\n",
       "    </tr>\n",
       "  </tbody>\n",
       "</table>\n",
       "</div>"
      ],
      "text/plain": [
       "     first_name                 email\n",
       "1         Imane  imanesalhi@gmail.com\n",
       "3         Samir     samir@outlook.com\n",
       "4         Hamid       hamid@gmail.com\n",
       "5  Fatima Zahra      ouafik@gmail.com"
      ]
     },
     "execution_count": 123,
     "metadata": {},
     "output_type": "execute_result"
    }
   ],
   "source": [
    "# get filter with specified column name and the opposite of 'fn_filter'\n",
    "df.loc[~fn_filter, ['first_name', 'email']]"
   ]
  },
  {
   "cell_type": "code",
   "execution_count": null,
   "id": "99c0568c",
   "metadata": {},
   "outputs": [],
   "source": []
  }
 ],
 "metadata": {
  "kernelspec": {
   "display_name": "Python 3 (ipykernel)",
   "language": "python",
   "name": "python3"
  },
  "language_info": {
   "codemirror_mode": {
    "name": "ipython",
    "version": 3
   },
   "file_extension": ".py",
   "mimetype": "text/x-python",
   "name": "python",
   "nbconvert_exporter": "python",
   "pygments_lexer": "ipython3",
   "version": "3.10.9"
  }
 },
 "nbformat": 4,
 "nbformat_minor": 5
}
